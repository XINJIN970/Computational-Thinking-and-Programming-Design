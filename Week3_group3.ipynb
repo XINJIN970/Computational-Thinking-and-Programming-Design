{
  "nbformat": 4,
  "nbformat_minor": 0,
  "metadata": {
    "colab": {
      "name": "Week3 group3.ipynb",
      "provenance": [],
      "include_colab_link": true
    },
    "kernelspec": {
      "name": "python3",
      "display_name": "Python 3"
    }
  },
  "cells": [
    {
      "cell_type": "markdown",
      "metadata": {
        "id": "view-in-github",
        "colab_type": "text"
      },
      "source": [
        "<a href=\"https://colab.research.google.com/github/XINJIN970/Computational-Thinking-and-Programming-Design/blob/master/Week3_group3.ipynb\" target=\"_parent\"><img src=\"https://colab.research.google.com/assets/colab-badge.svg\" alt=\"Open In Colab\"/></a>"
      ]
    },
    {
      "cell_type": "code",
      "metadata": {
        "id": "hzuUQ-yGPd4h",
        "colab_type": "code",
        "outputId": "2ef4d66e-3e19-4585-ef26-37ea5cffe89f",
        "colab": {
          "base_uri": "https://localhost:8080/",
          "height": 34
        }
      },
      "source": [
        "print(\"嗨 我是幸蓁 \")"
      ],
      "execution_count": 0,
      "outputs": [
        {
          "output_type": "stream",
          "text": [
            "嗨 我是幸蓁 \n"
          ],
          "name": "stdout"
        }
      ]
    },
    {
      "cell_type": "code",
      "metadata": {
        "id": "5lZTs4mBRllS",
        "colab_type": "code",
        "outputId": "85436a8c-6f70-4c07-bcfa-39899ea4dc73",
        "colab": {
          "base_uri": "https://localhost:8080/",
          "height": 34
        }
      },
      "source": [
        "print(\"我是雯雯\")"
      ],
      "execution_count": 0,
      "outputs": [
        {
          "output_type": "stream",
          "text": [
            "我是雯雯\n"
          ],
          "name": "stdout"
        }
      ]
    },
    {
      "cell_type": "code",
      "metadata": {
        "id": "K36IiVpjRPt5",
        "colab_type": "code",
        "colab": {}
      },
      "source": [
        "print(\"我示意宣\")"
      ],
      "execution_count": 0,
      "outputs": []
    },
    {
      "cell_type": "code",
      "metadata": {
        "id": "9O4M_ZIARyWn",
        "colab_type": "code",
        "outputId": "a76eda93-b980-404d-981b-03fa599da462",
        "colab": {
          "base_uri": "https://localhost:8080/",
          "height": 34
        }
      },
      "source": [
        "print(\"阿喽 我是霈瑄\")"
      ],
      "execution_count": 0,
      "outputs": [
        {
          "output_type": "stream",
          "text": [
            "阿喽 我是霈瑄\n"
          ],
          "name": "stdout"
        }
      ]
    },
    {
      "cell_type": "code",
      "metadata": {
        "id": "Nqa78gR9SHBT",
        "colab_type": "code",
        "colab": {
          "base_uri": "https://localhost:8080/",
          "height": 34
        },
        "outputId": "49a06010-4dde-48ff-b300-a0a1557ac1a2"
      },
      "source": [
        "print(\"嗨 我是謝靜怡 宿營一小的^^\")"
      ],
      "execution_count": 2,
      "outputs": [
        {
          "output_type": "stream",
          "text": [
            "嗨 我是謝靜怡 宿營一小的^^\n"
          ],
          "name": "stdout"
        }
      ]
    }
  ]
}