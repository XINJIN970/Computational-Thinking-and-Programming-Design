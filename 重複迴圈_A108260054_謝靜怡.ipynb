{
  "nbformat": 4,
  "nbformat_minor": 0,
  "metadata": {
    "colab": {
      "name": "重複迴圈-A108260054-謝靜怡.ipynb",
      "provenance": [],
      "include_colab_link": true
    },
    "kernelspec": {
      "name": "python3",
      "display_name": "Python 3"
    }
  },
  "cells": [
    {
      "cell_type": "markdown",
      "metadata": {
        "id": "view-in-github",
        "colab_type": "text"
      },
      "source": [
        "<a href=\"https://colab.research.google.com/github/XINJIN970/Computational-Thinking-and-Programming-Design/blob/master/%E9%87%8D%E8%A4%87%E8%BF%B4%E5%9C%88_A108260054_%E8%AC%9D%E9%9D%9C%E6%80%A1.ipynb\" target=\"_parent\"><img src=\"https://colab.research.google.com/assets/colab-badge.svg\" alt=\"Open In Colab\"/></a>"
      ]
    },
    {
      "cell_type": "code",
      "metadata": {
        "id": "TruBilMYvrnJ",
        "colab_type": "code",
        "colab": {
          "base_uri": "https://localhost:8080/",
          "height": 1000
        },
        "outputId": "c106219e-3d4a-4ce3-89e9-c335bf1fef0a"
      },
      "source": [
        " \n",
        "x=5\n",
        "if x<10:\n",
        "   print(\"x is less than 10\")\n",
        "\n",
        "x=5\n",
        "while x<10:\n",
        "  print(\"x is less than 10\")\n",
        "  print(\"I am still here\")\n",
        "  x=x+1\n",
        "print(\"Finished\")\n",
        "\n",
        "\n",
        "x=1\n",
        "while x < 5:\n",
        "  print(\"變數x是\",x)\n",
        "  x=x+1\n",
        "print(\"Finished\")\n",
        "\n",
        "#印10次HELLO\n",
        "\n",
        "x=0 #初始值\n",
        "while x<=10: #判斷條件\n",
        "  x=x+1 #更新條件\n",
        "  left=10-x\n",
        "  print(\"This is\",x,\"times Hello\",\"You still have\",left,\"times.\")\n",
        "print(\"Finished\")\n",
        "\n",
        "#1到10之和\n",
        "\n",
        "x=0 #初始值\n",
        "sum=0 #初始值\n",
        "\n",
        "while x<=50: #判斷條件\n",
        "  x=x+1 #更新條件\n",
        "  sum=sum+x #更新條件\n",
        "  print(\"Sum is\",sum)\n",
        "print(\"Finished\")"
      ],
      "execution_count": 4,
      "outputs": [
        {
          "output_type": "stream",
          "text": [
            "x is less than 10\n",
            "x is less than 10\n",
            "I am still here\n",
            "x is less than 10\n",
            "I am still here\n",
            "x is less than 10\n",
            "I am still here\n",
            "x is less than 10\n",
            "I am still here\n",
            "x is less than 10\n",
            "I am still here\n",
            "Finished\n",
            "變數x是 1\n",
            "變數x是 2\n",
            "變數x是 3\n",
            "變數x是 4\n",
            "Finished\n",
            "This is 1 times Hello You still have 9 times.\n",
            "This is 2 times Hello You still have 8 times.\n",
            "This is 3 times Hello You still have 7 times.\n",
            "This is 4 times Hello You still have 6 times.\n",
            "This is 5 times Hello You still have 5 times.\n",
            "This is 6 times Hello You still have 4 times.\n",
            "This is 7 times Hello You still have 3 times.\n",
            "This is 8 times Hello You still have 2 times.\n",
            "This is 9 times Hello You still have 1 times.\n",
            "This is 10 times Hello You still have 0 times.\n",
            "This is 11 times Hello You still have -1 times.\n",
            "Finished\n",
            "Sum is 1\n",
            "Sum is 3\n",
            "Sum is 6\n",
            "Sum is 10\n",
            "Sum is 15\n",
            "Sum is 21\n",
            "Sum is 28\n",
            "Sum is 36\n",
            "Sum is 45\n",
            "Sum is 55\n",
            "Sum is 66\n",
            "Sum is 78\n",
            "Sum is 91\n",
            "Sum is 105\n",
            "Sum is 120\n",
            "Sum is 136\n",
            "Sum is 153\n",
            "Sum is 171\n",
            "Sum is 190\n",
            "Sum is 210\n",
            "Sum is 231\n",
            "Sum is 253\n",
            "Sum is 276\n",
            "Sum is 300\n",
            "Sum is 325\n",
            "Sum is 351\n",
            "Sum is 378\n",
            "Sum is 406\n",
            "Sum is 435\n",
            "Sum is 465\n",
            "Sum is 496\n",
            "Sum is 528\n",
            "Sum is 561\n",
            "Sum is 595\n",
            "Sum is 630\n",
            "Sum is 666\n",
            "Sum is 703\n",
            "Sum is 741\n",
            "Sum is 780\n",
            "Sum is 820\n",
            "Sum is 861\n",
            "Sum is 903\n",
            "Sum is 946\n",
            "Sum is 990\n",
            "Sum is 1035\n",
            "Sum is 1081\n",
            "Sum is 1128\n",
            "Sum is 1176\n",
            "Sum is 1225\n",
            "Sum is 1275\n",
            "Sum is 1326\n",
            "Finished\n"
          ],
          "name": "stdout"
        }
      ]
    },
    {
      "cell_type": "code",
      "metadata": {
        "id": "ae4UVKRZyUS6",
        "colab_type": "code",
        "colab": {
          "base_uri": "https://localhost:8080/",
          "height": 34
        },
        "outputId": "3b64c802-8ce8-4a14-c31e-2f2f970049e7"
      },
      "source": [
        "#1到9奇數之和\n",
        "sum=0 #初始條件\n",
        "x=1\n",
        "while x<11: #初始條件\n",
        "  sum=sum+x #更新條件\n",
        "  x=x+2\n",
        "print(\"1+3+5+7+9=\",sum) #最後結果"
      ],
      "execution_count": 2,
      "outputs": [
        {
          "output_type": "stream",
          "text": [
            "1+3+5+7+9= 25\n"
          ],
          "name": "stdout"
        }
      ]
    },
    {
      "cell_type": "code",
      "metadata": {
        "id": "Bj43U1PZzc0N",
        "colab_type": "code",
        "colab": {
          "base_uri": "https://localhost:8080/",
          "height": 34
        },
        "outputId": "6084a3df-996a-45d5-86fe-66ab1b210ba1"
      },
      "source": [
        "#求大於10000最小平方和\n",
        "sum=0\n",
        "i=0\n",
        "while sum<=1000:\n",
        "  i+=1\n",
        "  sum+=i*i\n",
        "print(\"最小的n值為\",i)"
      ],
      "execution_count": 3,
      "outputs": [
        {
          "output_type": "stream",
          "text": [
            "最小的n值為 14\n"
          ],
          "name": "stdout"
        }
      ]
    },
    {
      "cell_type": "code",
      "metadata": {
        "id": "vljxd2jK0PBr",
        "colab_type": "code",
        "colab": {}
      },
      "source": [
        ""
      ],
      "execution_count": 0,
      "outputs": []
    }
  ]
}