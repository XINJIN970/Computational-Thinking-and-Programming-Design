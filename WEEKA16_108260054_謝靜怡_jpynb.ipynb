{
  "nbformat": 4,
  "nbformat_minor": 0,
  "metadata": {
    "colab": {
      "name": "WEEKA16 108260054-謝靜怡.jpynb",
      "provenance": [],
      "include_colab_link": true
    },
    "kernelspec": {
      "name": "python3",
      "display_name": "Python 3"
    }
  },
  "cells": [
    {
      "cell_type": "markdown",
      "metadata": {
        "id": "view-in-github",
        "colab_type": "text"
      },
      "source": [
        "<a href=\"https://colab.research.google.com/github/XINJIN970/Computational-Thinking-and-Programming-Design/blob/master/WEEKA16_108260054_%E8%AC%9D%E9%9D%9C%E6%80%A1_jpynb.ipynb\" target=\"_parent\"><img src=\"https://colab.research.google.com/assets/colab-badge.svg\" alt=\"Open In Colab\"/></a>"
      ]
    },
    {
      "cell_type": "code",
      "metadata": {
        "id": "r6gGO6zMwL8J",
        "colab_type": "code",
        "colab": {
          "base_uri": "https://localhost:8080/",
          "height": 51
        },
        "outputId": "b8df2f19-b742-40dd-8cda-f2da2161c34b"
      },
      "source": [
        "password = \"a123456\"\n",
        "times = 0\n",
        "\n",
        "while times <= 3:\n",
        "  answer = input(\"Enter Your Password: \")\n",
        "  if answer == password:\n",
        "    print(\"登入成功\")\n",
        "    break\n",
        "  else:\n",
        "    times = times + 1\n",
        "    chance = 3 - times\n",
        "    print(\"密碼錯誤!還有\", chance, \"次機會\")"
      ],
      "execution_count": 9,
      "outputs": [
        {
          "output_type": "stream",
          "text": [
            "Enter Your Password: a123456\n",
            "登入成功\n"
          ],
          "name": "stdout"
        }
      ]
    }
  ]
}