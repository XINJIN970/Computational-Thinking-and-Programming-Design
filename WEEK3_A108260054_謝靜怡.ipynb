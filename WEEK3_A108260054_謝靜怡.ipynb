{
  "nbformat": 4,
  "nbformat_minor": 0,
  "metadata": {
    "colab": {
      "name": "WEEK3-A108260054-謝靜怡.ipynb",
      "provenance": [],
      "include_colab_link": true
    },
    "kernelspec": {
      "name": "python3",
      "display_name": "Python 3"
    }
  },
  "cells": [
    {
      "cell_type": "markdown",
      "metadata": {
        "id": "view-in-github",
        "colab_type": "text"
      },
      "source": [
        "<a href=\"https://colab.research.google.com/github/XINJIN970/Computational-Thinking-and-Programming-Design/blob/master/WEEK3_A108260054_%E8%AC%9D%E9%9D%9C%E6%80%A1.ipynb\" target=\"_parent\"><img src=\"https://colab.research.google.com/assets/colab-badge.svg\" alt=\"Open In Colab\"/></a>"
      ]
    },
    {
      "cell_type": "code",
      "metadata": {
        "id": "Ml58p_QhI6vi",
        "colab_type": "code",
        "outputId": "6c4b1d47-f139-4d85-f57d-2e21fa23cebd",
        "colab": {
          "base_uri": "https://localhost:8080/",
          "height": 34
        }
      },
      "source": [
        "print(\"HELLO WORLD\")"
      ],
      "execution_count": 0,
      "outputs": [
        {
          "output_type": "stream",
          "text": [
            "HELLO WORLD\n"
          ],
          "name": "stdout"
        }
      ]
    },
    {
      "cell_type": "code",
      "metadata": {
        "id": "NHqbcT5lO_Hx",
        "colab_type": "code",
        "outputId": "ff9719d9-c7f3-4587-c0ee-9fb66db75931",
        "colab": {
          "base_uri": "https://localhost:8080/",
          "height": 34
        }
      },
      "source": [
        "print(\"我叫謝靜怡 來自花蓮 對我騎山豬上學^^\")"
      ],
      "execution_count": 0,
      "outputs": [
        {
          "output_type": "stream",
          "text": [
            "我叫謝靜怡 來自花蓮 對我騎山豬上學^^\n"
          ],
          "name": "stdout"
        }
      ]
    }
  ]
}